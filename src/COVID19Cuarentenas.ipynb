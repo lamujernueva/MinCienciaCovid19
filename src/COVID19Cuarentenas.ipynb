{
 "cells": [
  {
   "cell_type": "code",
   "execution_count": null,
   "metadata": {},
   "outputs": [],
   "source": [
    "import pandas as pand\n",
    "import numpy as np\n",
    "from arcgis.gis import GIS\n",
    "from arcgis.features import GeoAccessor, GeoSeriesAccessor\n",
    "from IPython.display import display\n",
    "from datetime import datetime,timedelta\n",
    "gis = GIS()\n",
    "#Medidas Sanitarias:0b944d9bf1954c71a7fae96bdddee464\n",
    "Medidas=gis.content.get('0b944d9bf1954c71a7fae96bdddee464')\n",
    "Capas=Medidas.layers\n",
    "Cuarentenas=Capas[1]\n",
    "CuarTotal=Cuarentenas.query(out_fields='CuarentenaID,Nombre,Estado,Alcance,FInicio,FTermino,Cut_Com,Detalle,Shape__Area,Shape__Length',return_geometry=False,order_by_fields='CuarentenaID ASC').sdf\n",
    "CuarTotal.set_index(\"OBJECTID\", inplace=True)\n",
    "for index, row in CuarTotal.iterrows():\n",
    "    CuarTotal.loc[index,\"FInicio\"]=row['FInicio']+timedelta(hours=-4)\n",
    "    CuarTotal.loc[index,\"FTermino\"]=row['FTermino']+timedelta(hours=-4)\n",
    "CuarActivas=CuarTotal[(CuarTotal['Estado'] == 1)|(CuarTotal['Estado'] == 3)]\n",
    "CuarHistoricas=CuarTotal[(CuarTotal['Estado'] == 2)]\n",
    "Productos=[CuarTotal,CuarActivas,CuarHistoricas]\n",
    "for producto in Productos:\n",
    "    producto.loc[(producto.Estado == 1),'Estado']='Activa'\n",
    "    producto.loc[(producto.Estado == 2),'Estado']='Histórica'\n",
    "    producto.loc[(producto.Estado == 3),'Estado']='Futura'\n",
    "    producto.loc[(producto.Alcance == 1),'Alcance']='Comuna completa'\n",
    "    producto.loc[(producto.Alcance == 2),'Alcance']='Área Urbana Completa'\n",
    "    producto.loc[(producto.Alcance == 3),'Alcance']='Área Rural Completa'\n",
    "    producto.loc[(producto.Alcance == 4),'Alcance']='Sector Específico'\n",
    "    producto.rename(columns={'CuarentenaID': 'ID', 'FInicio': 'Fecha de Inicio','FTermino': 'Fecha de Término','Cut_Com': 'Código CUT Comuna','Shape__Area': 'Superficie en m2','Shape__Length': 'Perímetro en m'},inplace=True)\n",
    "CuarTotal.to_csv(path_or_buf=\"../output/producto29/Cuarentenas-Totales.csv\",index=False)\n",
    "CuarActivas.to_csv(path_or_buf=\"../output/producto29/Cuarentenas-Activas.csv\",index=False)\n",
    "CuarHistoricas.to_csv(path_or_buf=\"../output/producto29/Cuarentenas-Historicas.csv\",index=False)"
   ]
  },
  {
   "cell_type": "code",
   "execution_count": null,
   "metadata": {},
   "outputs": [],
   "source": [
    "import requests\n",
    "import json\n",
    "url = \"https://services1.arcgis.com/LsoiDXzijohT7g97/arcgis/rest/services/COVID19ChileAcciones/FeatureServer/1/query?where=1%3D1&outFields=Nombre,Estado,Alcance,FInicio,FTermino,Cut_Com,Detalle,Shape__Area,Shape__Length,CuarentenaID&outSR=4326&orderByFields=CuarentenaID+ASC&f=pgeojson\"\n",
    "payload = {}\n",
    "headers= {}\n",
    "response = requests.request(\"GET\", url, headers=headers, data = payload)\n",
    "data=response.json()\n",
    "with open('../output/producto29/Cuarentenas-Geo.geojson', 'w', encoding=\"cp1252\") as f:\n",
    "    json.dump(data,f,indent=2)"
   ]
  }
 ],
 "metadata": {
  "language_info": {
   "codemirror_mode": {
    "name": "ipython",
    "version": 3
   },
   "file_extension": ".py",
   "mimetype": "text/x-python",
   "name": "python",
   "nbconvert_exporter": "python",
   "pygments_lexer": "ipython3",
   "version": "3.7.6-final"
  },
  "orig_nbformat": 2,
  "kernelspec": {
   "name": "python36064bitrootconda901191f5f68e40d0a09fc0adeb2a2faa",
   "display_name": "Python 3.6.0 64-bit ('root': conda)"
  }
 },
 "nbformat": 4,
 "nbformat_minor": 2
}